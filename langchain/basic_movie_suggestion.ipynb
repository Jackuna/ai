{
  "nbformat": 4,
  "nbformat_minor": 0,
  "metadata": {
    "colab": {
      "provenance": [],
      "authorship_tag": "ABX9TyMnLwn8LMhrd82js9onI2xb",
      "include_colab_link": true
    },
    "kernelspec": {
      "name": "python3",
      "display_name": "Python 3"
    },
    "language_info": {
      "name": "python"
    }
  },
  "cells": [
    {
      "cell_type": "markdown",
      "metadata": {
        "id": "view-in-github",
        "colab_type": "text"
      },
      "source": [
        "<a href=\"https://colab.research.google.com/github/Jackuna/ai/blob/main/langchain/basic_movie_suggestion.ipynb\" target=\"_parent\"><img src=\"https://colab.research.google.com/assets/colab-badge.svg\" alt=\"Open In Colab\"/></a>"
      ]
    },
    {
      "cell_type": "code",
      "execution_count": null,
      "metadata": {
        "id": "mob9SPlKD8Vz"
      },
      "outputs": [],
      "source": [
        "pip install langchain"
      ]
    },
    {
      "cell_type": "code",
      "source": [
        "pip install python-dotenv"
      ],
      "metadata": {
        "id": "3JCh_-aFF4QR"
      },
      "execution_count": null,
      "outputs": []
    },
    {
      "cell_type": "code",
      "source": [
        "pip install python-dotenv langchain_huggingface"
      ],
      "metadata": {
        "id": "l3LQYfTvGREQ"
      },
      "execution_count": null,
      "outputs": []
    },
    {
      "cell_type": "code",
      "source": [
        "import getpass\n",
        "import os\n",
        "from google.colab import userdata\n",
        "\n",
        "os.environ[\"HUGGINGFACEHUB_API_TOKEN\"] = userdata.get('HUGGINGFACEHUB_API_TOKEN')\n"
      ],
      "metadata": {
        "id": "Fu-EDeYACAED"
      },
      "execution_count": null,
      "outputs": []
    },
    {
      "cell_type": "code",
      "source": [
        "pip install --upgrade --quiet  langchain-huggingface text-generation transformers google-search-results numexpr langchainhub sentencepiece jinja2 bitsandbytes accelerate"
      ],
      "metadata": {
        "id": "DIMktLf1CzdL",
        "collapsed": true
      },
      "execution_count": null,
      "outputs": []
    },
    {
      "cell_type": "code",
      "source": [
        "from langchain_huggingface import ChatHuggingFace, HuggingFaceEndpoint\n",
        "\n",
        "llm = HuggingFaceEndpoint(\n",
        "    repo_id=\"HuggingFaceH4/zephyr-7b-beta\",\n",
        "    task=\"text-generation\",\n",
        "    max_new_tokens=512,\n",
        "    do_sample=False,\n",
        "    repetition_penalty=1.03,\n",
        ")\n",
        "\n",
        "chat_model = ChatHuggingFace(llm=llm)"
      ],
      "metadata": {
        "id": "wc9OSo71Fo7S"
      },
      "execution_count": null,
      "outputs": []
    },
    {
      "cell_type": "markdown",
      "source": [],
      "metadata": {
        "id": "jyC0sZ2jC0Up"
      }
    },
    {
      "cell_type": "code",
      "source": [
        "chat_model.invoke(\"Suggest me a good bollywood movie based on imdb rating\")"
      ],
      "metadata": {
        "id": "UAlgFz0OF-ZE"
      },
      "execution_count": null,
      "outputs": []
    },
    {
      "cell_type": "code",
      "source": [
        "from langchain_core.prompts import ChatPromptTemplate\n",
        "system_template = \"Act as a {role} and explain in less than twenty words\"\n",
        "\n",
        "prompt_template = ChatPromptTemplate.from_messages(\n",
        "    [(\"system\", system_template), (\"user\", \"{text}\")]\n",
        ")"
      ],
      "metadata": {
        "id": "WMRTz7hsMCIi"
      },
      "execution_count": null,
      "outputs": []
    },
    {
      "cell_type": "code",
      "source": [
        "prompt = prompt_template.invoke({\"role\": \"Linux Content writer\", \"text\": \"Kernel!\"})\n",
        "\n",
        "prompt"
      ],
      "metadata": {
        "colab": {
          "base_uri": "https://localhost:8080/"
        },
        "id": "ZBo-vA8dMqiI",
        "outputId": "47885218-ad66-4ade-86bb-1d565a28878f"
      },
      "execution_count": null,
      "outputs": [
        {
          "output_type": "execute_result",
          "data": {
            "text/plain": [
              "ChatPromptValue(messages=[SystemMessage(content='Act as a Linux Content writer and explain in less than twenty words', additional_kwargs={}, response_metadata={}), HumanMessage(content='Kernel!', additional_kwargs={}, response_metadata={})])"
            ]
          },
          "metadata": {},
          "execution_count": 38
        }
      ]
    },
    {
      "cell_type": "code",
      "source": [
        "prompt.to_messages()\n"
      ],
      "metadata": {
        "colab": {
          "base_uri": "https://localhost:8080/"
        },
        "id": "wHPPof4vMy9P",
        "outputId": "bdf312b3-81e6-478c-9b3a-55f5317c7273"
      },
      "execution_count": null,
      "outputs": [
        {
          "output_type": "execute_result",
          "data": {
            "text/plain": [
              "[SystemMessage(content='Act as a Linux Content writer and explain in less than twenty words', additional_kwargs={}, response_metadata={}),\n",
              " HumanMessage(content='Kernel!', additional_kwargs={}, response_metadata={})]"
            ]
          },
          "metadata": {},
          "execution_count": 39
        }
      ]
    },
    {
      "cell_type": "code",
      "source": [
        "response = chat_model.invoke(prompt)\n",
        "print(response.content)"
      ],
      "metadata": {
        "colab": {
          "base_uri": "https://localhost:8080/"
        },
        "id": "oPHW4GZCNe-3",
        "outputId": "68946ee5-1325-44cd-f3b4-31b011faf37f"
      },
      "execution_count": null,
      "outputs": [
        {
          "output_type": "stream",
          "name": "stdout",
          "text": [
            "The Linux kernel, at its core, manages hardware resources and provides essential system services for user applications to run seamlessly on a Linux system. In just 20 words.\n"
          ]
        }
      ]
    },
    {
      "cell_type": "code",
      "source": [
        "from langchain_core.prompts import PromptTemplate\n",
        "movie_name_suggestion_templ = PromptTemplate.from_template(\n",
        "    \"Suggest me only name of a {location} movie based on imdb rating {imdb_rating} for year {year}\"\n",
        ")\n",
        "\n",
        "my_prompt = movie_name_suggestion_templ.invoke(\n",
        "    {\"location\": \"Bollywood\", \"imdb_rating\": \"7\", \"year\": \"2019\"}\n",
        ")\n",
        "response = chat_model.invoke(my_prompt)\n",
        "print(response.content)\n"
      ],
      "metadata": {
        "colab": {
          "base_uri": "https://localhost:8080/"
        },
        "id": "WnWLQWF1RxU-",
        "outputId": "d2a45476-0ece-4625-d4ed-fcd33e02622a"
      },
      "execution_count": null,
      "outputs": [
        {
          "output_type": "stream",
          "name": "stdout",
          "text": [
            "The name of the Bollywood movie you're looking for based on the given criteria is \"Gully Boy\". It was released in 2019 and has an IMDb rating of 7 as of now. \"Gully Boy\" is a Hindi-language rap drama film directed by Zoya Akhtar and produced by Farhan Akhtar and Ritesh Sidhwani. The film features Ranveer Singh and Alia Bhatt in lead roles.\n"
          ]
        }
      ]
    },
    {
      "cell_type": "code",
      "source": [
        "from langchain_core.output_parsers import StrOutputParser\n",
        "movie_name_suggestion_templ = PromptTemplate.from_template(\n",
        "    \"Suggest me only name of a {location} movie based on imdb rating {imdb_rating} for year {year}\"\n",
        ")\n",
        "movie_tile_chain = movie_name_suggestion_templ | chat_model | StrOutputParser()\n",
        "movie_tile_chain.invoke(\n",
        "    {\"location\": \"Hollywood\", \"imdb_rating\": \"8\", \"year\": \"2020\"}\n",
        ")"
      ],
      "metadata": {
        "colab": {
          "base_uri": "https://localhost:8080/",
          "height": 104
        },
        "id": "A0yttQ-KXZ4b",
        "outputId": "4b7faaa9-a9bd-46ef-80ea-e1edcaf15b32"
      },
      "execution_count": null,
      "outputs": [
        {
          "output_type": "execute_result",
          "data": {
            "text/plain": [
              "'The Hollywood movie you\\'re looking for is \"Promising Young Woman,\" directed by Emerald Fennell. It was released in 2020 and currently has an IMDb rating of 8 out of 10. The movie stars Carey Mulligan, Bo Burnham, and Emerald Fennell (who also wrote the screenplay). It explores themes of revenge, trauma, and female empowerment.'"
            ],
            "application/vnd.google.colaboratory.intrinsic+json": {
              "type": "string"
            }
          },
          "metadata": {},
          "execution_count": 50
        }
      ]
    }
  ]
}