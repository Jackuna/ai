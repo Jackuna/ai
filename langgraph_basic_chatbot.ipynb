{
  "nbformat": 4,
  "nbformat_minor": 0,
  "metadata": {
    "colab": {
      "provenance": [],
      "authorship_tag": "ABX9TyMiDkQdyEeh/ivdm2prO5eZ",
      "include_colab_link": true
    },
    "kernelspec": {
      "name": "python3",
      "display_name": "Python 3"
    },
    "language_info": {
      "name": "python"
    }
  },
  "cells": [
    {
      "cell_type": "markdown",
      "metadata": {
        "id": "view-in-github",
        "colab_type": "text"
      },
      "source": [
        "<a href=\"https://colab.research.google.com/github/Jackuna/ai/blob/main/langgraph_basic_chatbot.ipynb\" target=\"_parent\"><img src=\"https://colab.research.google.com/assets/colab-badge.svg\" alt=\"Open In Colab\"/></a>"
      ]
    },
    {
      "cell_type": "markdown",
      "source": [
        "# Basic ChatBot using LangGraph"
      ],
      "metadata": {
        "id": "JCNgyNfGjoOy"
      }
    },
    {
      "cell_type": "code",
      "source": [
        "!pip install langchain_community langchainhub langgraph langchain langchain-groq"
      ],
      "metadata": {
        "id": "bvqTxVYkkN4L"
      },
      "execution_count": null,
      "outputs": []
    },
    {
      "cell_type": "markdown",
      "source": [
        "Import librarries"
      ],
      "metadata": {
        "id": "66GK-pV5wAlB"
      }
    },
    {
      "cell_type": "code",
      "source": [
        "from typing import Annotated\n",
        "from typing_extensions import TypedDict\n",
        "\n",
        "from langgraph.graph import StateGraph, START,END\n",
        "from langgraph.graph.message import add_messages\n"
      ],
      "metadata": {
        "id": "DkcalgY-jpA3"
      },
      "execution_count": 26,
      "outputs": []
    },
    {
      "cell_type": "markdown",
      "source": [
        "Create empty Class for State defining data type with annotations"
      ],
      "metadata": {
        "id": "2EzBI1VywGxX"
      }
    },
    {
      "cell_type": "code",
      "execution_count": 27,
      "metadata": {
        "id": "I0eSvagdjm3l"
      },
      "outputs": [],
      "source": [
        "class State(TypedDict):\n",
        "    #state: str\n",
        "    #message: str\n",
        "    messages: Annotated[list[str], add_messages]\n",
        "\n"
      ]
    },
    {
      "cell_type": "markdown",
      "source": [
        "Import keys from Google Colab and set keys as environmnet values"
      ],
      "metadata": {
        "id": "CZnJ2v99wlvu"
      }
    },
    {
      "cell_type": "code",
      "source": [
        "from google.colab import userdata\n",
        "import os\n",
        "os.environ['GROQ_API_KEY'] = userdata.get('groq_api_key')\n"
      ],
      "metadata": {
        "id": "_wty8-flsjWB"
      },
      "execution_count": 28,
      "outputs": []
    },
    {
      "cell_type": "markdown",
      "source": [
        "Initiate LLM using GROQ Model"
      ],
      "metadata": {
        "id": "WugBqXr1wv71"
      }
    },
    {
      "cell_type": "code",
      "source": [
        "from langchain_groq import ChatGroq\n",
        "\n",
        "llm = ChatGroq(model=\"llama3-8b-8192\")\n"
      ],
      "metadata": {
        "id": "X7OJlBsotJGo"
      },
      "execution_count": 29,
      "outputs": []
    },
    {
      "cell_type": "code",
      "source": [
        "# Create Node Functionality\n",
        "\n",
        "def chatbot(state: State):\n",
        "  return {\"messages\": [llm.invoke(state['messages'])]}"
      ],
      "metadata": {
        "id": "0rva3VdJyRHo"
      },
      "execution_count": 30,
      "outputs": []
    },
    {
      "cell_type": "code",
      "source": [
        "graph_builder = StateGraph(State)\n",
        "# Adding Node\n",
        "graph_builder.add_node(\"mychatbot\", chatbot)\n",
        "\n",
        "# Adding Edges\n",
        "graph_builder.add_edge(START, \"mychatbot\")\n",
        "graph_builder.add_edge(\"mychatbot\", END)\n",
        "\n",
        "# Compile the graph\n",
        "graph = graph_builder.compile()"
      ],
      "metadata": {
        "id": "3KUvdEEBzIPj"
      },
      "execution_count": 31,
      "outputs": []
    },
    {
      "cell_type": "code",
      "source": [
        "# Visualize the graph\n",
        "from IPython.display import Image,display\n",
        "\n",
        "display(Image(graph.get_graph().draw_mermaid_png()))"
      ],
      "metadata": {
        "colab": {
          "base_uri": "https://localhost:8080/",
          "height": 251
        },
        "id": "1A51-xrE0SqO",
        "outputId": "728f78b6-c297-49d7-a8fd-0bcdc723b82b"
      },
      "execution_count": 32,
      "outputs": [
        {
          "output_type": "display_data",
          "data": {
            "image/png": "[encoded data removed]",
            "text/plain": [
              "<IPython.core.display.Image object>"
            ]
          },
          "metadata": {}
        }
      ]
    },
    {
      "cell_type": "code",
      "source": [
        "response = graph.invoke({\"messages\": \"Can i use charcoal as aquarium substrate to grow plants\"})"
      ],
      "metadata": {
        "id": "NrE1_IZe5Jlc"
      },
      "execution_count": 33,
      "outputs": []
    },
    {
      "cell_type": "code",
      "source": [
        "response['messages'][-1].content\n"
      ],
      "metadata": {
        "id": "-GZN6YjV6u-J"
      },
      "execution_count": 34,
      "outputs": []
    },
    {
      "cell_type": "code",
      "source": [
        "for val in graph.stream({\"messages\": \"How can I grow dwarf hair grass outside aqarium ?\"}):\n",
        "  for value in val.values():\n",
        "    print(value[\"messages\"][-1].content)"
      ],
      "metadata": {
        "colab": {
          "base_uri": "https://localhost:8080/"
        },
        "id": "ws-Of27y8smR",
        "outputId": "737f098f-4c5c-4401-e7b5-1afc6a6166a3"
      },
      "execution_count": 39,
      "outputs": [
        {
          "output_type": "stream",
          "name": "stdout",
          "text": [
            "Dwarf hair grass (Eleocharis parvula) is a popular aquatic plant that can be grown outside of an aquarium in a controlled environment. Here's a step-by-step guide to help you grow dwarf hair grass outside of an aquarium:\n",
            "\n",
            "**Materials needed:**\n",
            "\n",
            "* Dwarf hair grass seeds or small plants\n",
            "* A container with good drainage (e.g., plastic tub, ceramic pot, or a hydroponic system)\n",
            "* A growing medium (e.g., soil, sand, or a soilless mix)\n",
            "* A water reservoir or spray bottle\n",
            "* A warm and bright location (e.g., a sunny windowsill or under grow lights)\n",
            "* A thermometer and a hygrometer (optional)\n",
            "\n",
            "**Instructions:**\n",
            "\n",
            "1. **Choose a container:** Select a container that is at least 6-8 inches deep and has good drainage holes. Make sure the container is clean and free of any debris.\n",
            "2. **Prepare the growing medium:** Fill the container with a growing medium that is specifically designed for aquatic plants or a soilless mix. You can also use a mixture of sand and soil, but make sure it is well-draining.\n",
            "3. **Sow the seeds:** If you're using seeds, sow them about 1/8 inch deep and 1/4 inch apart. Cover the seeds with a thin layer of the growing medium. If you're using small plants, simply plant them in the growing medium, leaving enough space for them to spread out.\n",
            "4. **Water and maintain humidity:** Water the soil gently but thoroughly. Make sure the soil is consistently moist but not waterlogged. To maintain humidity, you can cover the container with a clear plastic bag or a cloche.\n",
            "5. **Provide warmth and light:** Place the container in a warm and bright location. Dwarf hair grass prefers temperatures between 65°F to 85°F (18°C to 30°C). If you're using grow lights, make sure they are LED or T5 lights, as these emit less heat than other types of lights.\n",
            "6. **Monitor temperature and humidity:** Use a thermometer and hygrometer to monitor the temperature and humidity levels. Dwarf hair grass prefers a relative humidity of 50-60%.\n",
            "7. **Fertilize:** Feed your dwarf hair grass with a balanced fertilizer (e.g., 20-20-20 NPK) once a month. You can also use a fertilizer specifically designed for aquatic plants.\n",
            "8. **Prune and trim:** Regularly prune and trim your dwarf hair grass to maintain its shape and promote healthy growth. You can use scissors or pinch off the leaves and stems with your fingers.\n",
            "\n",
            "**Tips and considerations:**\n",
            "\n",
            "* Make sure the container has good drainage to prevent waterlogged soil.\n",
            "* Dwarf hair grass can be sensitive to extreme temperatures and humidity levels. Monitor the conditions and adjust as needed.\n",
            "* Keep the container out of direct sunlight, as this can cause the soil to dry out too quickly.\n",
            "* If you notice any pests or diseases, treat the plant promptly to prevent the issue from spreading.\n",
            "* Dwarf hair grass can grow quite tall (up to 12 inches), so consider pruning it regularly to maintain a desired height.\n",
            "\n",
            "By following these steps and tips, you should be able to successfully grow dwarf hair grass outside of an aquarium. Good luck!\n"
          ]
        }
      ]
    }
  ]
}