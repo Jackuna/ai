{
  "nbformat": 4,
  "nbformat_minor": 0,
  "metadata": {
    "colab": {
      "provenance": [],
      "authorship_tag": "ABX9TyMTvYhDRMcmnkXhrLu7JJd4",
      "include_colab_link": true
    },
    "kernelspec": {
      "name": "python3",
      "display_name": "Python 3"
    },
    "language_info": {
      "name": "python"
    }
  },
  "cells": [
    {
      "cell_type": "markdown",
      "metadata": {
        "id": "view-in-github",
        "colab_type": "text"
      },
      "source": [
        "<a href=\"https://colab.research.google.com/github/Jackuna/ai/blob/main/langgraph/langGraph_with_tools_ReAct.ipynb\" target=\"_parent\"><img src=\"https://colab.research.google.com/assets/colab-badge.svg\" alt=\"Open In Colab\"/></a>"
      ]
    },
    {
      "cell_type": "markdown",
      "source": [
        "#### Langraph Chatbot with Tools as AI Agents using ReAct Architecture"
      ],
      "metadata": {
        "id": "5hdb4sw4TGTe"
      }
    },
    {
      "cell_type": "code",
      "execution_count": null,
      "metadata": {
        "id": "hLlxwUY2S_Sv"
      },
      "outputs": [],
      "source": [
        "!pip install langchain_community langchainhub langgraph langchain langchain-groq langchain_tavily"
      ]
    },
    {
      "cell_type": "code",
      "source": [
        "from google.colab import userdata\n",
        "import os\n",
        "\n",
        "os.environ[\"SERPER_API_KEY\"] = userdata.get('serper_key')\n",
        "os.environ['GROQ_API_KEY'] = userdata.get('groq_api_key')\n"
      ],
      "metadata": {
        "id": "OHezFTEdVpVO"
      },
      "execution_count": 3,
      "outputs": []
    },
    {
      "cell_type": "code",
      "source": [
        "from langchain_community.utilities import GoogleSerperAPIWrapper\n",
        "from langchain_core.tools import Tool\n",
        "\n",
        "search = GoogleSerperAPIWrapper()\n",
        "\n",
        "search_tool = Tool(\n",
        "        name=\"Search_Tool\",\n",
        "        func=search.results,\n",
        "        description=\"it is useful when you need to ask with search\",\n",
        "    )\n",
        "\n",
        "\n",
        "#search_tool.run(\"Let me know a good substrate to grow dwarf hairgrass ?\")\n",
        "\n"
      ],
      "metadata": {
        "id": "MypaSYoKXhcg"
      },
      "execution_count": 4,
      "outputs": []
    },
    {
      "cell_type": "code",
      "source": [
        "# Initiatalize LLM\n",
        "from langchain_groq import ChatGroq\n",
        "llm = ChatGroq(model=\"llama3-8b-8192\")"
      ],
      "metadata": {
        "id": "98L-Jymcee7A"
      },
      "execution_count": 5,
      "outputs": []
    },
    {
      "cell_type": "markdown",
      "source": [
        "Custom Function using DocString"
      ],
      "metadata": {
        "id": "6WO5H8ziTDpI"
      }
    },
    {
      "cell_type": "code",
      "source": [
        "def multiply(a: int, b: int) -> int:\n",
        "    \"\"\"Multiply a and b.\n",
        "    Args:\n",
        "      a(int): The first integer.\n",
        "      b(int): The second integer.\n",
        "    Returns:\n",
        "      The product of the two integers.\n",
        "      int: output int\n",
        "    \"\"\"\n",
        "    return a * b\n",
        "\n",
        "def subtract(a: int, b: int) -> int:\n",
        "    \"\"\"subtract a by b.\n",
        "    Args:\n",
        "      a(int): The first integer.\n",
        "      b(int): The second integer.\n",
        "    Returns:\n",
        "      The subtracted of the two integers.\n",
        "      int: output int\n",
        "    \"\"\"\n",
        "    return a - b"
      ],
      "metadata": {
        "id": "8Lq7zaAlXgII"
      },
      "execution_count": 6,
      "outputs": []
    },
    {
      "cell_type": "code",
      "source": [
        "tools=[search_tool, multiply,subtract]"
      ],
      "metadata": {
        "id": "txHhLDzL8Mn7"
      },
      "execution_count": 7,
      "outputs": []
    },
    {
      "cell_type": "code",
      "source": [
        "# Bind Tools with LLM\n",
        "llm_with_tools = llm.bind_tools(tools)\n"
      ],
      "metadata": {
        "id": "aKnJMXrNeKOC"
      },
      "execution_count": 8,
      "outputs": []
    },
    {
      "cell_type": "code",
      "source": [
        "from typing import Annotated\n",
        "from typing_extensions import TypedDict\n",
        "from langgraph.graph.message import add_messages\n",
        "\n",
        "class State(TypedDict):\n",
        "    #state: str\n",
        "    #message: str\n",
        "    messages: Annotated[list[str], add_messages]"
      ],
      "metadata": {
        "id": "xz0bFHlel-_U"
      },
      "execution_count": 9,
      "outputs": []
    },
    {
      "cell_type": "markdown",
      "source": [
        "# ReAct Architecture\n",
        "Act --> Observe --> Reason"
      ],
      "metadata": {
        "id": "57A2X_aUAGmm"
      }
    },
    {
      "cell_type": "code",
      "source": [
        "# State Graph\n",
        "\n",
        "from langgraph.graph import StateGraph,START,END\n",
        "from langgraph.prebuilt import ToolNode, tools_condition\n",
        "\n",
        "# Node Defination\n",
        "def tool_calling_llm(state: State):\n",
        "   return {\"messages\": [llm_with_tools.invoke(state['messages'])]}\n",
        "\n",
        "## Graph\n",
        "builder = StateGraph(State)\n",
        "builder.add_node(\"tool_calling_llm\", tool_calling_llm)\n",
        "builder.add_node(\"tools\", ToolNode(tools))\n",
        "\n",
        "## Add Edges\n",
        "builder.add_edge(START, \"tool_calling_llm\")\n",
        "builder.add_conditional_edges(\n",
        "    \"tool_calling_llm\",\n",
        "    tools_condition\n",
        ")\n",
        "builder.add_edge(\"tools\", \"tool_calling_llm\")\n",
        "\n",
        "# Compile the Graph\n",
        "graph = builder.compile()\n"
      ],
      "metadata": {
        "id": "StQ9GGr9lLjh"
      },
      "execution_count": 10,
      "outputs": []
    },
    {
      "cell_type": "code",
      "source": [
        "# Visualize the graph\n",
        "from IPython.display import Image,display\n",
        "\n",
        "display(Image(graph.get_graph().draw_mermaid_png()))"
      ],
      "metadata": {
        "colab": {
          "base_uri": "https://localhost:8080/",
          "height": 266
        },
        "id": "cPjOQ7v9rLir",
        "outputId": "4e487a8c-de86-4b93-c3ae-0ff887a82358"
      },
      "execution_count": 11,
      "outputs": [
        {
          "output_type": "display_data",
          "data": {
            "image/png": "[encoded data removed]",
            "text/plain": [
              "<IPython.core.display.Image object>"
            ]
          },
          "metadata": {}
        }
      ]
    },
    {
      "cell_type": "code",
      "source": [
        "response = graph.invoke({\"messages\": \"multiply 63 by 1\"})\n",
        "\n",
        "response[\"messages\"][-1].content"
      ],
      "metadata": {
        "colab": {
          "base_uri": "https://localhost:8080/",
          "height": 35
        },
        "id": "7wN8Ub-uu6ej",
        "outputId": "588a62a5-34e9-4d77-e366-7aca0c6909e4"
      },
      "execution_count": 14,
      "outputs": [
        {
          "output_type": "execute_result",
          "data": {
            "text/plain": [
              "'63'"
            ],
            "application/vnd.google.colaboratory.intrinsic+json": {
              "type": "string"
            }
          },
          "metadata": {},
          "execution_count": 14
        }
      ]
    },
    {
      "cell_type": "code",
      "source": [
        "response = graph.invoke({\"messages\": \"multiply 8 and 8\"})\n",
        "\n",
        "for val in response[\"messages\"]:\n",
        "  val.pretty_print()"
      ],
      "metadata": {
        "colab": {
          "base_uri": "https://localhost:8080/"
        },
        "id": "ma6qtTNtB9cH",
        "outputId": "5f0af381-9efc-474e-8355-d693fc1fdf9f"
      },
      "execution_count": 18,
      "outputs": [
        {
          "output_type": "stream",
          "name": "stdout",
          "text": [
            "================================\u001b[1m Human Message \u001b[0m=================================\n",
            "\n",
            "multiply 8 and 8\n",
            "==================================\u001b[1m Ai Message \u001b[0m==================================\n",
            "Tool Calls:\n",
            "  multiply (dm7znzpn9)\n",
            " Call ID: dm7znzpn9\n",
            "  Args:\n",
            "    a: 8\n",
            "    b: 8\n",
            "=================================\u001b[1m Tool Message \u001b[0m=================================\n",
            "Name: multiply\n",
            "\n",
            "64\n",
            "==================================\u001b[1m Ai Message \u001b[0m==================================\n",
            "\n",
            "64\n"
          ]
        }
      ]
    },
    {
      "cell_type": "code",
      "source": [
        "response = graph.invoke({\"messages\": \"subtract 9 by 91\"})\n",
        "\n",
        "for val in response[\"messages\"]:\n",
        "  val.pretty_print()"
      ],
      "metadata": {
        "colab": {
          "base_uri": "https://localhost:8080/"
        },
        "id": "PiLDySNKwUOr",
        "outputId": "ce84662d-38ca-4d9b-e21a-dc5dd93f91ab"
      },
      "execution_count": 19,
      "outputs": [
        {
          "output_type": "stream",
          "name": "stdout",
          "text": [
            "================================\u001b[1m Human Message \u001b[0m=================================\n",
            "\n",
            "subtract 9 by 91\n",
            "==================================\u001b[1m Ai Message \u001b[0m==================================\n",
            "Tool Calls:\n",
            "  subtract (ynz1w5fk5)\n",
            " Call ID: ynz1w5fk5\n",
            "  Args:\n",
            "    a: 91\n",
            "    b: 9\n",
            "=================================\u001b[1m Tool Message \u001b[0m=================================\n",
            "Name: subtract\n",
            "\n",
            "82\n",
            "==================================\u001b[1m Ai Message \u001b[0m==================================\n",
            "\n",
            "<tool-use>{\"tool_calls\":[]}</tool-use>\n"
          ]
        }
      ]
    },
    {
      "cell_type": "code",
      "source": [
        "response = graph.invoke({\"messages\": \"who is the President of USA and then multiply 12 and 12\"})\n",
        "\n",
        "for val in response[\"messages\"]:\n",
        "  val.pretty_print()"
      ],
      "metadata": {
        "colab": {
          "base_uri": "https://localhost:8080/"
        },
        "id": "zqeXS8IkwujG",
        "outputId": "9c68fab4-4c9e-4cb6-c784-e5bd91e3a61b"
      },
      "execution_count": 21,
      "outputs": [
        {
          "output_type": "stream",
          "name": "stdout",
          "text": [
            "================================\u001b[1m Human Message \u001b[0m=================================\n",
            "\n",
            "who is the President of USA and then multiply 12 and 12\n",
            "==================================\u001b[1m Ai Message \u001b[0m==================================\n",
            "Tool Calls:\n",
            "  Search_Tool (1gqbhr8vv)\n",
            " Call ID: 1gqbhr8vv\n",
            "  Args:\n",
            "    __arg1: who is the President of USA\n",
            "=================================\u001b[1m Tool Message \u001b[0m=================================\n",
            "Name: Search_Tool\n",
            "\n",
            "{\"searchParameters\": {\"q\": \"who is the President of USA\", \"gl\": \"us\", \"hl\": \"en\", \"type\": \"search\", \"num\": 10, \"engine\": \"google\"}, \"answerBox\": {\"title\": \"United States / President\", \"answer\": \"Donald Trump\"}, \"knowledgeGraph\": {\"title\": \"Donald Trump\", \"type\": \"45th and 47th U.S. President\", \"imageUrl\": \"https://encrypted-tbn0.gstatic.com/images?q=tbn:ANd9GcSOpSNNTTnQQt9_M1jlNzxfjl66Y0WTu7qfQ8sPi5VCsvtohzYQWdiT7g&s=0\", \"description\": \"Donald John Trump is an American politician, media personality, and businessman who is the 47th president of the United States. A member of the Republican Party, he served as the 45th president from 2017 to 2021.\", \"descriptionSource\": \"Wikipedia\", \"descriptionLink\": \"https://en.wikipedia.org/wiki/Donald_Trump\", \"attributes\": {\"Born\": \"June 14, 1946 (age 79 years), Jamaica Hospital Medical Center, New York, NY\", \"Organizations founded\": \"Department of Government Efficiency, World Liberty Financial, Trump Media & Technology Group, and more\", \"Aunts\": \"Elizabeth Trump Walters and Christina Matheson\", \"Cousins\": \"John Gordon Trump, Karen Ingraham, Christine Philp, and more\", \"Grandchildren\": \"Kai Madison Trump and Donald Trump III\", \"Grandparents\": \"Frederick Trump, Elizabeth Christ Trump, Malcolm MacLeod, and more\", \"Great-grandparents\": \"Christian Johannes Trump, Katharina Trump, Anna Maria Christ, and more\"}}, \"organic\": [{\"title\": \"President of the United States\", \"link\": \"https://usun.usmission.gov/our-leaders/the-president-of-the-united-states/\", \"snippet\": \"President Donald J.​​ Donald J. Trump serves as the 47th President of the United States. He also served as the 45th. Read the President's full biography.\", \"position\": 1}, {\"title\": \"The White House\", \"link\": \"https://www.whitehouse.gov/\", \"snippet\": \"Donald J. Trump. President of the United States · JD Vance. VICE PRESIDENT OF THE UNITED STATES · Melania Trump. First Lady OF THE UNITED STATES · The Cabinet. Of ...\", \"sitelinks\": [{\"title\": \"Donald J. Trump\", \"link\": \"https://www.whitehouse.gov/administration/donald-j-trump/\"}, {\"title\": \"Contact Us\", \"link\": \"https://www.whitehouse.gov/contact/\"}, {\"title\": \"Administration\", \"link\": \"https://www.whitehouse.gov/administration/\"}, {\"title\": \"Live News\", \"link\": \"https://www.whitehouse.gov/live/\"}], \"position\": 2}, {\"title\": \"President of the United States - Wikipedia\", \"link\": \"https://en.wikipedia.org/wiki/President_of_the_United_States\", \"snippet\": \"George Washington, the first U.S. president, firmly established military subordination under civilian authority.\", \"sitelinks\": [{\"title\": \"List\", \"link\": \"https://en.wikipedia.org/wiki/List_of_presidents_of_the_United_States\"}, {\"title\": \"Powers\", \"link\": \"https://en.wikipedia.org/wiki/Powers_of_the_president_of_the_United_States\"}, {\"title\": \"Executive Office\", \"link\": \"https://en.wikipedia.org/wiki/Executive_Office_of_the_President_of_the_United_States\"}, {\"title\": \"Vice President\", \"link\": \"https://en.wikipedia.org/wiki/Vice_President_of_the_United_States\"}], \"position\": 3}, {\"title\": \"Presidents of the United States of America - Ohio Secretary of State\", \"link\": \"https://www.ohiosos.gov/elections/election-results-and-data/historical-election-comparisons/presidents-of-the-united-states-of-america/\", \"snippet\": \"(m) Vice President Gerald R. Ford was sworn in as President on August 9, 1974. Mr. Rockefeller was nominated by the President and confirmed by the Congress in ...\", \"position\": 4}, {\"title\": \"Presidents, vice presidents, and first ladies | USAGov\", \"link\": \"https://www.usa.gov/presidents\", \"snippet\": \"President of the United States · Current president. The 47th and current president of the United States is Donald John Trump. ; Vice president of ...\", \"date\": \"Mar 5, 2025\", \"position\": 5}, {\"title\": \"President Donald J. Trump - The White House\", \"link\": \"https://www.whitehouse.gov/administration/donald-j-trump/\", \"snippet\": \"President Donald J. Trump is returning to the White House to build upon his previous successes and use his mandate to reject the extremist policies.\", \"position\": 6}, {\"title\": \"Donald J. Trump – The White House - National Archives\", \"link\": \"https://trumpwhitehouse.archives.gov/people/donald-j-trump/\", \"snippet\": \"Donald J. Trump is the 45th President of the United States. He believes the United States has incredible potential and will go on to exceed even its remarkable ...\", \"position\": 7}, {\"title\": \"Donald Trump - Wikipedia\", \"link\": \"https://en.wikipedia.org/wiki/Donald_Trump\", \"snippet\": \"Donald John Trump (born June 14, 1946) is an American politician, media personality, and businessman who is the 47th president of the United States.\", \"sitelinks\": [{\"title\": \"Trump family\", \"link\": \"https://en.wikipedia.org/wiki/Trump_family\"}, {\"title\": \"Political positions of Donald...\", \"link\": \"https://en.wikipedia.org/wiki/Political_positions_of_Donald_Trump\"}, {\"title\": \"Business career of Donald...\", \"link\": \"https://en.wikipedia.org/wiki/Business_career_of_Donald_Trump\"}, {\"title\": \"Wealth\", \"link\": \"https://en.wikipedia.org/wiki/Wealth_of_Donald_Trump\"}], \"position\": 8}, {\"title\": \"Donald J. Trump: America's new president\", \"link\": \"https://me.usembassy.gov/donald-j-trump-americas-new-president/\", \"snippet\": \"President Donald J. Trump is returning to the White House as the 47th president to build upon his previous successes, unleash the American economy.\", \"date\": \"Jan 23, 2025\", \"position\": 9}, {\"title\": \"U.S. Presidents | Miller Center\", \"link\": \"https://millercenter.org/president\", \"snippet\": \"U.S. Presidents · George Washington · John Adams · Thomas Jefferson · James Madison · James Monroe · John Quincy Adams · Andrew Jackson · Martin Van Buren ...\", \"sitelinks\": [{\"title\": \"Presidential Speeches\", \"link\": \"https://millercenter.org/the-presidency/presidential-speeches\"}, {\"title\": \"George Washington\", \"link\": \"https://millercenter.org/president/washington\"}, {\"title\": \"Thomas Jefferson\", \"link\": \"https://millercenter.org/president/jefferson\"}, {\"title\": \"Abraham Lincoln\", \"link\": \"https://millercenter.org/president/lincoln\"}], \"position\": 10}], \"relatedSearches\": [{\"query\": \"Who is the Vice President of the United States\"}, {\"query\": \"U.S. President list\"}, {\"query\": \"Who is the 46th president\"}, {\"query\": \"Who is the new president of the United States\"}, {\"query\": \"u.s. president term limit\"}, {\"query\": \"Who is the 47th president\"}, {\"query\": \"How can I directly email the President\"}, {\"query\": \"48th President of the United States\"}], \"credits\": 1}\n",
            "==================================\u001b[1m Ai Message \u001b[0m==================================\n",
            "Tool Calls:\n",
            "  multiply (xhmf81jfk)\n",
            " Call ID: xhmf81jfk\n",
            "  Args:\n",
            "    a: 12\n",
            "    b: 12\n",
            "=================================\u001b[1m Tool Message \u001b[0m=================================\n",
            "Name: multiply\n",
            "\n",
            "144\n",
            "==================================\u001b[1m Ai Message \u001b[0m==================================\n",
            "\n",
            "The President of the United States is Donald Trump, and 12 multiplied by 12 is 144.\n"
          ]
        }
      ]
    },
    {
      "cell_type": "code",
      "source": [
        "response = graph.invoke({\"messages\": \"search for latest Aquascape competitions\"})\n",
        "\n",
        "for val in response[\"messages\"]:\n",
        "  val.pretty_print()"
      ],
      "metadata": {
        "colab": {
          "base_uri": "https://localhost:8080/"
        },
        "id": "LmjEtD-Z84dq",
        "outputId": "82311b3f-8fe2-4575-c2ec-04ffabcec87c"
      },
      "execution_count": 22,
      "outputs": [
        {
          "output_type": "stream",
          "name": "stdout",
          "text": [
            "================================\u001b[1m Human Message \u001b[0m=================================\n",
            "\n",
            "search for latest Aquascape competitions\n",
            "==================================\u001b[1m Ai Message \u001b[0m==================================\n",
            "Tool Calls:\n",
            "  Search_Tool (hed2m11s4)\n",
            " Call ID: hed2m11s4\n",
            "  Args:\n",
            "    __arg1: Aquascape competitions\n",
            "=================================\u001b[1m Tool Message \u001b[0m=================================\n",
            "Name: Search_Tool\n",
            "\n",
            "{\"searchParameters\": {\"q\": \"Aquascape competitions\", \"gl\": \"us\", \"hl\": \"en\", \"type\": \"search\", \"num\": 10, \"engine\": \"google\"}, \"organic\": [{\"title\": \"AGA Aquascaping Contest 2000-2023 Archive\", \"link\": \"https://showcase.aquatic-gardeners.org/\", \"snippet\": \"View the results of the AGA's 2000-2023 International Aquascaping Contest here. In addition, you can find 'vintage' live reveals from our livestreams.\", \"sitelinks\": [{\"title\": \"View Year\", \"link\": \"https://showcase.aquatic-gardeners.org/2023/\"}, {\"title\": \"2017\", \"link\": \"https://showcase.aquatic-gardeners.org/2017/\"}, {\"title\": \"2022\", \"link\": \"https://showcase.aquatic-gardeners.org/2022/\"}, {\"title\": \"Guidelines\", \"link\": \"https://showcase.aquatic-gardeners.org/guidelines.html\"}], \"position\": 1}, {\"title\": \"THE INTERNATIONAL AQUATIC PLANTS LAYOUT CONTEST - The ...\", \"link\": \"https://iaplc.com/e/\", \"snippet\": \"AGA International Aquascaping Contest · European Aquatic Plants Layout Contest (EAPLC) · Hungarian Aquascaping Contest (HAC) · Mauritian Aquascapin Contest (MAC)\", \"sitelinks\": [{\"title\": \"About iaplc\", \"link\": \"https://iaplc.com/e/about/\"}, {\"title\": \"Past Works\", \"link\": \"https://iaplc.com/gallery/en/\"}, {\"title\": \"Guideline and rules\", \"link\": \"https://iaplc.com/e/application/\"}, {\"title\": \"Grand Prize Works\", \"link\": \"https://iaplc.com/e/grand_prize_works/\"}], \"position\": 2}, {\"title\": \"AGAIAC: Home\", \"link\": \"https://agaiac.org/\", \"snippet\": \"AGAIAC is the International Aquascaping Contest showcasing global talent, with the Aquatic Gardeners Association promoting aquatic plants in the hobby.\", \"attributes\": {\"Missing\": \"competitions | Show results with:competitions\"}, \"position\": 3}, {\"title\": \"45P AQUASCAPING CONTEST - TOP 15 AQUARIUMS - YouTube\", \"link\": \"https://www.youtube.com/watch?v=_4oN_QUY7cA\", \"snippet\": \"The 45P Contest brought together 15 Aquascapers, all working with the same aquarium and the same materials. In this video, I showcase the ...\", \"date\": \"Feb 9, 2025\", \"attributes\": {\"Missing\": \"competitions | Show results with:competitions\"}, \"position\": 4}, {\"title\": \"AGA International Aquascaping Contest 2024 Results\", \"link\": \"https://www.ukaps.org/forum/threads/aga-international-aquascaping-contest-2024-results.76429/\", \"snippet\": \"The contest results for the AGA IAC 2024 have been published! I believe this is the last awaited contest result of 2024. A link to the full results can be ...\", \"date\": \"Jan 6, 2025\", \"position\": 5}, {\"title\": \"AGA 2023 Aquascaping Contest: Categories\", \"link\": \"https://showcase.aquatic-gardeners.org/2023/\", \"snippet\": \"It is with great pleasure that the Aquatic Gardeners Association announces the results of the 2023 AGA International Aquascaping Contest.\", \"position\": 6}, {\"title\": \"How To Win an Aquascaping Contest\", \"link\": \"https://aquascapinglove.com/basics/win-aquascaping-contest/\", \"snippet\": \"Aquascaping Judging Criteria · 1. Artistic Impression · 2. Aquarium Conditions and Aquatic Plants Health · 3. Use of Hardscape (Driftwood and Aquascaping Rocks).\", \"position\": 7}, {\"title\": \"TAE Freshwater Aquascape Contest - The Aquatic Expo\", \"link\": \"https://www.theaquaticexpo.com/freshwater-aquascaping-contest/\", \"snippet\": \"Watch 10 competitors as they go head-to-head live for prizes and recognition in a reality-style timed aquascaping contest.\", \"position\": 8}, {\"title\": \"World's BEST Aquariums of 2024 | IAPLC 2024 Live Reaction\", \"link\": \"https://www.youtube.com/watch?v=nloFvibe81g\", \"snippet\": \"Comments ; How I Made My Top-Ranked Contest Aquarium | IAPLC 2024 Diary. Green Aqua · 40K views ; Planted Tank Legends - Juan Puchades Aquascaping ...\", \"date\": \"Sep 5, 2024\", \"position\": 9}], \"peopleAlsoAsk\": [{\"question\": \"What is the largest aquascaping competition?\", \"snippet\": \"with the People All over the World. The “International Aquatic Plants Layout Contest (IAPLC)” is a world-class planted aquarium event launched at the start of the 21th century.\", \"title\": \"The World's largest contest IAPLC | ADA - NATURE AQUARIUM\", \"link\": \"https://www.adana.co.jp/en/contents/iaplc/index.html\"}, {\"question\": \"Who is the best aquascaper in the world?\", \"snippet\": \"Josh Sim might be the most successful aquascaper ever, with a list of awards that stretches on and on. Nathan Hill caught up with him to find out more of the man behind the legend.\", \"title\": \"A discussion with Josh Sim - Practical Fishkeeping\", \"link\": \"https://www.practicalfishkeeping.co.uk/features/a-discussion-with-josh-sim/\"}, {\"question\": \"What is the rule of thirds in aquascape?\", \"snippet\": \"The “rule” of thirds essentially says that focal points and sections of a composition should lie in proportions or locations of 1/3rd of the composition. The word “rule” is in quotation marks because it isn't actually a rule, but an effective guide for creating an image or other artwork that is visually appealing.\", \"title\": \"3 Composition Guides for Creating a Beautiful Aquascape - Buce Plant\", \"link\": \"https://buceplant.com/blogs/aquascaping-guides-and-tips/3-composition-guides-for-creating-a-beautiful-aquascape\"}, {\"question\": \"What is the grand prize money for Iaplc?\", \"snippet\": \"Grand Prize (1 Person): ¥1,000,000 prize money, Grand Prize Trophy, Top 100 Medal, and a certificate. Gold Prize (1 Person): ¥300,000 prize money, Gold Prize Trophy, Top 100 Medal, and a certificate. Silver Prize (2 People): ¥100,000 prize money, Silver Prize Trophy, Top 100 Medal, and a certificate.\", \"title\": \"Special benefits and prizes for IAPLC participants - Aquarium Libraries\", \"link\": \"https://aqualibs.com/news/special-benefits-and-prizes-for-iaplc-participants/\"}], \"relatedSearches\": [{\"query\": \"Aquascape competitions near me\"}, {\"query\": \"Aquascaping competition 2025\"}, {\"query\": \"Aquascape competition winners\"}, {\"query\": \"IAPLC\"}, {\"query\": \"AGA aquascaping contest\"}, {\"query\": \"Aquascaping competition 2024\"}, {\"query\": \"Dutch Aquascape competition\"}, {\"query\": \"IAPLC rules\"}], \"credits\": 1}\n",
            "==================================\u001b[1m Ai Message \u001b[0m==================================\n",
            "\n",
            "Based on the search results, here are the latest Aquascape competitions:\n",
            "\n",
            "1. AGA International Aquascaping Contest 2024 Results: The contest results for the AGA IAC 2024 have been published. You can find the full results on the UKAPS forum.\n",
            "2. TAE Freshwater Aquascape Contest: This is a live competition where 10 competitors go head-to-head to create the best aquascape. The contest is held at The Aquatic Expo.\n",
            "3. IAPLC 2024: The International Aquatic Plants Layout Contest (IAPLC) is a world-class planted aquarium event. The contest is held annually and attracts participants from all over the world.\n",
            "4. AGAIAC: The Aquatic Gardeners Association is promoting aquatic plants in the hobby and hosting the International Aquascaping Contest.\n",
            "5. 45P AQUASCAPING CONTEST: This is a YouTube video featuring the top 15 aquascapers competing against each other.\n",
            "\n",
            "Note: These are just a few examples of the latest Aquascape competitions. There may be more events and contests happening around the world.\n"
          ]
        }
      ]
    }
  ]
}